{
 "cells": [
  {
   "cell_type": "markdown",
   "id": "ea7cd2c9",
   "metadata": {},
   "source": [
    "\n",
    "# Полный справочник типов данных в Python — `python_data_types_full_plus`\n",
    "\n",
    "Этот учебный Jupyter Notebook с теоретическими блоками и примерами (на русском) для **всех встроенных типов данных** Python, включая `bytes`, `bytearray`, `memoryview`, `range`, `frozenset`, а также краткие примеры пользовательских типов (`NamedTuple`, `dataclass`).  \n",
    "Каждый блок содержит объяснение и рабочие примеры кода с комментариями, которые можно запускать в VS Code + Jupyter.\n",
    "\n",
    "> Формат: только теория + примеры и комментарии (без автотестов и заданий).\n"
   ]
  },
  {
   "cell_type": "markdown",
   "id": "e91d2399",
   "metadata": {},
   "source": [
    "\n",
    "## 🔢 Числовые типы (`int`, `float`, `complex`)\n",
    "\n",
    "- `int` — целые числа (произвольной точности).  \n",
    "- `float` — числа с плавающей точкой (двойной точности).  \n",
    "- `complex` — комплексные числа (в виде `a + bj`).\n",
    "\n",
    "**Где используются:** счётчики, индексы, финансовые расчёты (обычно с `Decimal`), научные вычисления (часто `float` или `numpy`), сигнальная обработка (комплексные числа).\n"
   ]
  },
  {
   "cell_type": "code",
   "execution_count": null,
   "id": "d0d0c718",
   "metadata": {},
   "outputs": [],
   "source": [
    "\n",
    "# Примеры работы с числовыми типами\n",
    "\n",
    "# int: литерал и конструктор\n",
    "a = 10\n",
    "b = int(\"20\")   # преобразование строки в int\n",
    "print(\"a:\", a, \"b:\", b)\n",
    "\n",
    "# float: литерал и конструктор\n",
    "f = 3.14159\n",
    "f2 = float(\"2.718\")\n",
    "print(\"f:\", f, \"f2:\", f2)\n",
    "\n",
    "# арифметика\n",
    "print(\"деление:\", a / 3)    # всегда float\n",
    "print(\"целая часть:\", a // 3)  # целая часть\n",
    "print(\"остаток:\", a % 3)\n",
    "print(\"степень:\", 2 ** 8)\n",
    "\n",
    "# complex\n",
    "z = 1 + 2j\n",
    "z2 = complex(3, -1)  # complex(real, imag)\n",
    "print(\"z:\", z, \"real:\", z.real, \"imag:\", z.imag)\n"
   ]
  },
  {
   "cell_type": "markdown",
   "id": "e4fb8df6",
   "metadata": {},
   "source": [
    "\n",
    "## 🧵 Строки (`str`)\n",
    "\n",
    "- `str` — последовательность символов (Unicode в Python 3).  \n",
    "- Строки **неизменяемы** (immutable): операции возвращают новые строки.  \n",
    "- Часто используются для работы с текстом, форматирования, шаблонизации.\n",
    "\n",
    "**Способы создания:** литералы (`'...'`, \"...\", `'''...'''`) и конструктор `str()`.\n"
   ]
  },
  {
   "cell_type": "code",
   "execution_count": null,
   "id": "2e6f4015",
   "metadata": {},
   "outputs": [],
   "source": [
    "\n",
    "# Примеры со строками\n",
    "\n",
    "s1 = \"Hello\"\n",
    "s2 = 'World'\n",
    "s3 = '''Многострочная\n",
    "строка'''\n",
    "\n",
    "# конструктор\n",
    "s4 = str(123)   # число → строка\n",
    "\n",
    "# основные операции\n",
    "print(s1 + \" \" + s2)      # конкатенация\n",
    "print(s1 * 3)             # повтор\n",
    "print(len(s1))\n",
    "print(s3.split())         # split по пробелам/новой строке\n",
    "\n",
    "# срезы и индексация\n",
    "s = \"Python\"\n",
    "print(s[0], s[-1], s[1:4], s[::-1])  # P, n, 'yth', 'nohtyP'\n"
   ]
  },
  {
   "cell_type": "markdown",
   "id": "051f564a",
   "metadata": {},
   "source": [
    "\n",
    "## Последовательности: `list`, `tuple`, `range`, `str`\n",
    "\n",
    "- **Списки (`list`)** — изменяемые последовательности, поддерживают вставку, удаление, сортировку.  \n",
    "- **Кортежи (`tuple`)** — неизменяемые последовательности, используются для фиксированных записей и распаковки.  \n",
    "- **Диапазоны (`range`)** — ленивые последовательности целых чисел (удобны для циклов).  \n",
    "- **Строки (`str`)** — последовательности символов (уже описаны выше).\n",
    "\n",
    "У каждого типа есть свои конструкторы: `list()`, `tuple()`, `range()`.\n"
   ]
  },
  {
   "cell_type": "code",
   "execution_count": null,
   "id": "9e0c2ed2",
   "metadata": {},
   "outputs": [],
   "source": [
    "\n",
    "# list: способы создания и преобразования\n",
    "l1 = [1, 2, 3]            # литерал\n",
    "l2 = list((4, 5, 6))      # из кортежа через конструктор\n",
    "l3 = list(\"abc\")          # строка → список символов\n",
    "print(\"lists:\", l1, l2, l3)\n",
    "\n",
    "# tuple: создание\n",
    "t1 = (1, 2, 3)\n",
    "t2 = tuple([4,5,6])       # список → кортеж\n",
    "t3 = tuple(\"xyz\")         # строка → кортеж символов\n",
    "print(\"tuples:\", t1, t2, t3)\n",
    "\n",
    "# range: ленивый диапазон\n",
    "r = range(0, 10, 2)       # 0,2,4,6,8\n",
    "print(\"range:\", list(r))  # преобразуем в список для вывода\n",
    "# range эффективен для циклов, экономит память при больших диапазонах\n"
   ]
  },
  {
   "cell_type": "markdown",
   "id": "f294714a",
   "metadata": {},
   "source": [
    "\n",
    "### 🧮 `list` — ключевые операции\n",
    "\n",
    "- `append()`, `extend()`, `insert()` — добавление элементов.  \n",
    "- `pop()`, `remove()` — удаление.  \n",
    "- `sort()`, `reverse()` — изменение порядка.  \n",
    "- Списковые включения (list comprehensions) — компактный способ создавать списки.\n"
   ]
  },
  {
   "cell_type": "code",
   "execution_count": null,
   "id": "41be936f",
   "metadata": {},
   "outputs": [],
   "source": [
    "\n",
    "# Примеры операций со списком\n",
    "nums = [5, 2, 9]\n",
    "nums.append(7)     # добавить в конец\n",
    "nums.insert(1, 3)  # вставить по индексу\n",
    "print(\"after insert:\", nums)\n",
    "\n",
    "# list comprehension — создать квадрат чисел\n",
    "squares = [x*x for x in range(6)]\n",
    "print(\"squares:\", squares)\n",
    "\n",
    "# сортировка\n",
    "nums.sort()\n",
    "print(\"sorted:\", nums)\n"
   ]
  },
  {
   "cell_type": "markdown",
   "id": "55a403c8",
   "metadata": {},
   "source": [
    "\n",
    "### 🎯 `tuple` — когда использовать\n",
    "\n",
    "- Для неизменяемых наборов данных (координаты, константы).  \n",
    "- Для ключей в `dict` (если нужно агрегировать пару значений как ключ).  \n",
    "- Быстрее и безопаснее, когда не требуется менять содержимое.\n"
   ]
  },
  {
   "cell_type": "code",
   "execution_count": null,
   "id": "bb7f74b7",
   "metadata": {},
   "outputs": [],
   "source": [
    "\n",
    "# tuple как ключ в словаре (пример)\n",
    "coords = (10, 20)\n",
    "d = {coords: \"position A\"}\n",
    "print(d[coords])\n"
   ]
  },
  {
   "cell_type": "markdown",
   "id": "76d3e413",
   "metadata": {},
   "source": [
    "\n",
    "## 📘 Множества (`set`, `frozenset`)\n",
    "\n",
    "- `set` — изменяемое множество уникальных элементов.  \n",
    "- `frozenset` — неизменяемая версия множества (можно использовать как ключ в `dict`).\n",
    "\n",
    "Операции: объединение (`|`), пересечение (`&`), разность (`-`), симметрическая разность (`^`).\n"
   ]
  },
  {
   "cell_type": "code",
   "execution_count": null,
   "id": "19309ae5",
   "metadata": {},
   "outputs": [],
   "source": [
    "\n",
    "# set: создание и операции\n",
    "s = {1, 2, 3, 3}   # дубликаты автоматически удаляются\n",
    "print(\"s:\", s)\n",
    "\n",
    "s2 = set([3,4,5])\n",
    "print(\"union:\", s | s2)\n",
    "print(\"intersection:\", s & s2)\n",
    "print(\"difference:\", s - s2)\n",
    "\n",
    "# frozenset: неизменяемое множество\n",
    "fs = frozenset([1,2,3])\n",
    "print(\"frozenset:\", fs)\n",
    "# frozenset можно использовать как ключ в dict или элемент множества\n",
    "d = {fs: \"frozen\"}\n",
    "print(d)\n"
   ]
  },
  {
   "cell_type": "markdown",
   "id": "5571ec2b",
   "metadata": {},
   "source": [
    "\n",
    "## 🗂️ Словари (`dict`)\n",
    "\n",
    "- `dict` — отображение (mapping) ключ → значение.  \n",
    "- Ключи должны быть хешируемыми (immutable): строки, числа, кортежи и т.д.  \n",
    "- Часто используются для представления JSON‑подобных структур и быстрой выборки по ключу.\n"
   ]
  },
  {
   "cell_type": "code",
   "execution_count": null,
   "id": "2198137f",
   "metadata": {},
   "outputs": [],
   "source": [
    "\n",
    "# Способы создания dict\n",
    "d1 = {\"name\": \"Иван\", \"age\": 30}              # литерал\n",
    "d2 = dict([(\"city\",\"Москва\"), (\"zip\", 101000)])  # из списка пар\n",
    "d3 = dict(name=\"Ольга\", age=25)               # именованные аргументы\n",
    "print(\"dicts:\", d1, d2, d3)\n",
    "\n",
    "# Основные операции\n",
    "d1[\"email\"] = \"ivan@example.com\"   # добавление/изменение\n",
    "print(d1.get(\"email\"))              # безопасное получение\n",
    "print(list(d1.keys()), list(d1.values()))\n",
    "for k, v in d1.items():\n",
    "    print(k, \"->\", v)\n"
   ]
  },
  {
   "cell_type": "markdown",
   "id": "3abe40c7",
   "metadata": {},
   "source": [
    "\n",
    "## 🧩 Байтовые типы: `bytes`, `bytearray`, `memoryview`\n",
    "\n",
    "- `bytes` — неизменяемая последовательность байтов (часто используется при работе с файлами в бинарном режиме, сетевыми протоколами).  \n",
    "- `bytearray` — изменяемая версия `bytes`.  \n",
    "- `memoryview` — \"вид\" на буфер (позволяет работать с частью байтов без копирования).\n",
    "\n",
    "**Создание:** `b'...'`, `bytes()`, `bytearray()`, `memoryview()`.\n"
   ]
  },
  {
   "cell_type": "code",
   "execution_count": null,
   "id": "49105983",
   "metadata": {},
   "outputs": [],
   "source": [
    "\n",
    "# bytes: литерал и конструктор\n",
    "b1 = b\"hello\"             # литерал bytes\n",
    "b2 = bytes([65,66,67])    # из списка чисел -> байты (ASCII)\n",
    "print(b1, b2)\n",
    "\n",
    "# bytearray: изменяемый буфер байтов\n",
    "ba = bytearray(b\"abc\")\n",
    "ba[0] = 65                # можно изменить элемент\n",
    "print(\"bytearray:\", ba)\n",
    "\n",
    "# memoryview: просмотр буфера без копирования\n",
    "mv = memoryview(b2)\n",
    "print(\"memoryview[0]:\", mv[0])\n",
    "# Можно получать срезы без копирования\n",
    "print(\"slice:\", mv[1:])\n"
   ]
  },
  {
   "cell_type": "markdown",
   "id": "2d7ee733",
   "metadata": {},
   "source": [
    "\n",
    "## 🔁 `range` — ленивый диапазон целых чисел\n",
    "\n",
    "- `range(start, stop, step)` генерирует последовательность целых чисел.  \n",
    "- `range` не создаёт весь список в памяти (в отличие от `list(range(...))`) — экономит память на больших последовательностях.  \n",
    "- Часто используется в циклах `for`.\n"
   ]
  },
  {
   "cell_type": "code",
   "execution_count": null,
   "id": "592d61e3",
   "metadata": {},
   "outputs": [],
   "source": [
    "\n",
    "r = range(0, 10, 2)\n",
    "print(\"range object:\", r)\n",
    "print(\"as list:\", list(r))\n",
    "\n",
    "# типично использовать в циклах\n",
    "for i in range(3):\n",
    "    print(\"i:\", i)\n"
   ]
  },
  {
   "cell_type": "markdown",
   "id": "e05493f5",
   "metadata": {},
   "source": [
    "\n",
    "### ✳️ Примечание: `str` vs `bytes`\n",
    "\n",
    "- `str` хранит текст (Unicode).  \n",
    "- `bytes` хранит сырые байты.  \n",
    "- При работе с внешними данными (файлы, сеть) часто нужно **кодировать**/ **декодировать**: `str.encode()` → `bytes`, `bytes.decode()` → `str`.\n"
   ]
  },
  {
   "cell_type": "code",
   "execution_count": null,
   "id": "7fa08a2a",
   "metadata": {},
   "outputs": [],
   "source": [
    "\n",
    "s = \"Привет\"\n",
    "b = s.encode(\"utf-8\")   # str -> bytes\n",
    "print(\"bytes:\", b)\n",
    "print(\"decoded:\", b.decode(\"utf-8\"))\n"
   ]
  },
  {
   "cell_type": "markdown",
   "id": "a0a4d1e5",
   "metadata": {},
   "source": [
    "\n",
    "## 🧰 Логический тип `bool` и `None`\n",
    "\n",
    "- `bool` — значения `True` / `False`.  \n",
    "- `None` — специальный объект, обозначающий отсутствие значения (аналог null).\n",
    "\n",
    "`bool()` применяется для приведения значений к логическому типу (пустые коллекции и 0 дают False).\n"
   ]
  },
  {
   "cell_type": "code",
   "execution_count": null,
   "id": "41fa548d",
   "metadata": {},
   "outputs": [],
   "source": [
    "\n",
    "print(bool(0), bool(1), bool(\"\"))   # False, True, False\n",
    "x = None\n",
    "if x is None:\n",
    "    print(\"x не задан\")\n"
   ]
  },
  {
   "cell_type": "markdown",
   "id": "f15711dd",
   "metadata": {},
   "source": [
    "\n",
    "## 🧩 Пользовательские типы: `NamedTuple`, `dataclass` (кратко)\n",
    "\n",
    "- `collections.namedtuple` / `typing.NamedTuple` — лёгкие неизменяемые структуры с именованными полями.  \n",
    "- `dataclasses.dataclass` — удобная декларация классов для хранения данных с автоматическими методами (`__init__`, `__repr__`).\n",
    "\n",
    "Используются для удобного представления структурированных данных (например, запись о пользователе).\n"
   ]
  },
  {
   "cell_type": "code",
   "execution_count": null,
   "id": "82eb3889",
   "metadata": {},
   "outputs": [],
   "source": [
    "\n",
    "from collections import namedtuple\n",
    "from dataclasses import dataclass\n",
    "\n",
    "Point = namedtuple(\"Point\", [\"x\", \"y\"])\n",
    "p = Point(10, 20)\n",
    "print(\"namedtuple:\", p.x, p.y)\n",
    "\n",
    "@dataclass\n",
    "class User:\n",
    "    id: int\n",
    "    name: str\n",
    "\n",
    "u = User(1, \"Иван\")\n",
    "print(\"dataclass:\", u)\n"
   ]
  },
  {
   "cell_type": "markdown",
   "id": "0cf97b28",
   "metadata": {},
   "source": [
    "\n",
    "## 🔍 Изменяемые и неизменяемые типы — почему это важно\n",
    "\n",
    "- **Неизменяемые** (int, float, str, tuple, frozenset, bytes): при попытке \"изменить\" объект создаётся новый объект. Это делает такие объекты безопасными для использования в качестве ключей словаря и при работе в многопоточности.  \n",
    "- **Изменяемые** (list, dict, set, bytearray): операции модифицируют объект на месте; это важно учитывать, чтобы не вносить побочных эффектов в функцию, если объект передаётся внутрь.\n",
    "\n",
    "Пример: передача списка в функцию и изменение внутри функции изменит исходный список.\n"
   ]
  },
  {
   "cell_type": "code",
   "execution_count": null,
   "id": "a74383b1",
   "metadata": {},
   "outputs": [],
   "source": [
    "\n",
    "# Пример побочного эффекта при изменяемых типах\n",
    "def append_item(lst, item):\n",
    "    lst.append(item)   # изменяет список на месте\n",
    "\n",
    "my_list = [1,2,3]\n",
    "append_item(my_list, 4)\n",
    "print(\"after:\", my_list)  # [1,2,3,4] — внешний объект изменился\n"
   ]
  },
  {
   "cell_type": "markdown",
   "id": "411fe960",
   "metadata": {},
   "source": [
    "\n",
    "## ✅ Итоги и рекомендации\n",
    "\n",
    "- Используй литералы для простоты (`[]`, `{}`, `()`, `\"\"`, `b\"\"`).  \n",
    "- Используй конструкторы (`list()`, `tuple()`, `set()`, `dict()`) при преобразовании между типами.  \n",
    "- Помни про различие `str` ⇄ `bytes` и кодировки.  \n",
    "- Понимай изменяемость — это помогает избежать неожиданных побочных эффектов.\n",
    "\n",
    "Открывай ячейки и запускай примеры в VS Code — комментарии объясняют **что** и **почему** происходят.\n"
   ]
  }
 ],
 "metadata": {},
 "nbformat": 4,
 "nbformat_minor": 5
}