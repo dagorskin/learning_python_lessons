{
 "cells": [
  {
   "cell_type": "markdown",
   "id": "7075603b",
   "metadata": {},
   "source": [
    "\n",
    "# Основы Linux, Git и venv для Python — `linux_git_venv_basics`\n",
    "\n",
    "Учебный Jupyter Notebook с базовыми командами Linux, Git и Python venv с комментариями на русском.  \n",
    "Все команды можно запускать прямо в Jupyter через `!`.\n"
   ]
  },
  {
   "cell_type": "markdown",
   "id": "c4c663ea",
   "metadata": {},
   "source": [
    "\n",
    "## 🔹 Блок 1: Базовые команды Linux\n",
    "\n",
    "Linux — основная ОС для разработки и серверов. Здесь показаны самые часто используемые команды.\n"
   ]
  },
  {
   "cell_type": "code",
   "execution_count": null,
   "id": "6b1c4441",
   "metadata": {},
   "outputs": [],
   "source": [
    "\n",
    "# Показать текущую директорию\n",
    "!pwd\n",
    "\n",
    "# Список файлов\n",
    "!ls\n",
    "!ls -l   # подробный список\n",
    "!ls -a   # все файлы, включая скрытые\n",
    "\n",
    "# Создание и удаление директорий и файлов\n",
    "!mkdir test_dir\n",
    "!touch test_file.txt\n",
    "!rm test_file.txt\n",
    "!rmdir test_dir\n",
    "\n",
    "# Копирование и перемещение\n",
    "!cp old.txt new.txt\n",
    "!mv new.txt folder/\n",
    "\n",
    "# Просмотр содержимого файла\n",
    "!echo \"Привет Linux\" > hello.txt\n",
    "!cat hello.txt\n",
    "!head hello.txt\n",
    "!tail hello.txt\n",
    "\n",
    "# Права доступа\n",
    "!chmod 644 hello.txt\n",
    "!ls -l hello.txt\n",
    "\n",
    "# Поиск файлов\n",
    "!find . -name \"hello.txt\"\n",
    "!grep \"Привет\" hello.txt\n",
    "\n",
    "# Просмотр процессов\n",
    "!ps aux | head -n 5\n"
   ]
  },
  {
   "cell_type": "markdown",
   "id": "08101f86",
   "metadata": {},
   "source": [
    "\n",
    "## 🔹 Блок 2: Базовые команды Git\n",
    "\n",
    "Git — система контроля версий, используемая для отслеживания изменений в коде.\n"
   ]
  },
  {
   "cell_type": "code",
   "execution_count": null,
   "id": "3e2c1725",
   "metadata": {},
   "outputs": [],
   "source": [
    "\n",
    "# Проверка версии Git\n",
    "!git --version\n",
    "\n",
    "# Инициализация репозитория\n",
    "!git init my_project\n",
    "\n",
    "# Клонирование репозитория\n",
    "#!git clone https://github.com/user/repo.git\n",
    "\n",
    "# Статус файлов\n",
    "!git status\n",
    "\n",
    "# Добавление файлов в индекс\n",
    "!git add hello.txt\n",
    "\n",
    "# Коммит изменений\n",
    "!git commit -m \"Добавлен файл hello.txt\"\n",
    "\n",
    "# Просмотр логов коммитов\n",
    "!git log --oneline\n",
    "\n",
    "# Работа с ветками\n",
    "!git branch\n",
    "!git branch dev\n",
    "!git checkout dev\n",
    "!git merge main\n",
    "\n",
    "# Push / Pull (примеры, требует доступ)\n",
    "#!git push origin main\n",
    "#!git pull origin main\n"
   ]
  },
  {
   "cell_type": "markdown",
   "id": "aefb1b4a",
   "metadata": {},
   "source": [
    "\n",
    "## 🔹 Блок 3: Виртуальные окружения Python (venv)\n",
    "\n",
    "- venv позволяет изолировать зависимости проектов.  \n",
    "- Использование: создаём окружение, активируем, устанавливаем пакеты, деактивируем.\n"
   ]
  },
  {
   "cell_type": "code",
   "execution_count": null,
   "id": "aea7f01b",
   "metadata": {},
   "outputs": [],
   "source": [
    "\n",
    "# Создание виртуального окружения\n",
    "!python3 -m venv my_env\n",
    "\n",
    "# Активация (Linux/macOS)\n",
    "# !source my_env/bin/activate\n",
    "\n",
    "# Активация (Windows)\n",
    "# !my_env\\Scripts\\activate\n",
    "\n",
    "# После активации можно устанавливать пакеты\n",
    "# !pip install requests\n",
    "\n",
    "# Деактивация окружения\n",
    "# !deactivate\n",
    "\n",
    "# Проверка установленных пакетов\n",
    "# !pip list\n"
   ]
  },
  {
   "cell_type": "markdown",
   "id": "437dbb1c",
   "metadata": {},
   "source": [
    "\n",
    "## 🔹 Итоги\n",
    "\n",
    "- Linux: навигация, работа с файлами, права, поиск и процессы.  \n",
    "- Git: инициализация, клонирование, статус, коммиты, ветки.  \n",
    "- venv: создание, активация, установка пакетов, деактивация.  \n",
    "\n",
    "Используйте ячейки с `!` в Jupyter для запуска команд прямо в системе.\n"
   ]
  }
 ],
 "metadata": {},
 "nbformat": 4,
 "nbformat_minor": 5
}